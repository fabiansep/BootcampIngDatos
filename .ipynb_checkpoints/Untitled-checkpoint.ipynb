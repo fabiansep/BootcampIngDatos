{
 "cells": [
  {
   "cell_type": "code",
   "execution_count": 2,
   "id": "ff045368-252a-4778-bd8d-4ca1619eb543",
   "metadata": {},
   "outputs": [],
   "source": [
    "def es_mayor(edad):\n",
    "    \"\"\"\n",
    "    Función que recibe la edad y retorna True si es mayor de edad, False si es menor\n",
    "    Parámetro: edad (int)\n",
    "    Retorna: bool (True si >= 18, False si < 18)\n",
    "    \"\"\"\n",
    "    return edad >= 18"
   ]
  },
  {
   "cell_type": "code",
   "execution_count": 5,
   "id": "b1fcac29-c3b5-457f-b5d4-f1acafb8816f",
   "metadata": {},
   "outputs": [
    {
     "name": "stdout",
     "output_type": "stream",
     "text": [
      "=== VERIFICADOR DE MAYORÍA DE EDAD ===\n",
      "\n"
     ]
    },
    {
     "name": "stdin",
     "output_type": "stream",
     "text": [
      "Por favor, ingresa tu nombre:  Fabian\n",
      "Por favor, ingresa tu edad:  17\n"
     ]
    },
    {
     "name": "stdout",
     "output_type": "stream",
     "text": [
      "\n",
      "✅ Datos ingresados: Fabian, 17 años, es mayor de edad: No\n"
     ]
    }
   ],
   "source": [
    "print(\"=== VERIFICADOR DE MAYORÍA DE EDAD ===\\n\")\n",
    "\n",
    "# Solicitar nombre del usuario\n",
    "nombre = input(\"Por favor, ingresa tu nombre: \")\n",
    "\n",
    "# Solicitar edad con validación\n",
    "while True:\n",
    "    try:\n",
    "        edad = int(input(\"Por favor, ingresa tu edad: \"))\n",
    "        if edad < 0:\n",
    "            print(\"❌ La edad no puede ser negativa. Intenta de nuevo.\")\n",
    "            continue\n",
    "        elif edad > 150:\n",
    "            print(\"❌ Edad no válida. Intenta de nuevo.\")\n",
    "            continue\n",
    "        break\n",
    "    except ValueError:\n",
    "        print(\"❌ Por favor, ingresa un número válido para la edad.\")\n",
    "resultado_funcion = es_mayor(edad)\n",
    "print(f\"\\n✅ Datos ingresados: {nombre}, {edad} años, es mayor de edad: {'Sí' if resultado_funcion else 'No'}\")"
   ]
  },
  {
   "cell_type": "code",
   "execution_count": null,
   "id": "102732ab-e1bd-4167-a624-7b919d9f074c",
   "metadata": {},
   "outputs": [],
   "source": []
  }
 ],
 "metadata": {
  "kernelspec": {
   "display_name": "Python 3 (ipykernel)",
   "language": "python",
   "name": "python3"
  },
  "language_info": {
   "codemirror_mode": {
    "name": "ipython",
    "version": 3
   },
   "file_extension": ".py",
   "mimetype": "text/x-python",
   "name": "python",
   "nbconvert_exporter": "python",
   "pygments_lexer": "ipython3",
   "version": "3.12.7"
  }
 },
 "nbformat": 4,
 "nbformat_minor": 5
}
