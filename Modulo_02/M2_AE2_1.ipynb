{
  "nbformat": 4,
  "nbformat_minor": 0,
  "metadata": {
    "colab": {
      "provenance": []
    },
    "kernelspec": {
      "name": "python3",
      "display_name": "Python 3"
    },
    "language_info": {
      "name": "python"
    }
  },
  "cells": [
    {
      "cell_type": "markdown",
      "source": [
        "# 👨🏽‍🏫Clase M2 AE2 Sentencias básicas del lenguaje python\n"
      ],
      "metadata": {
        "id": "92k_J4PilSep"
      }
    },
    {
      "cell_type": "markdown",
      "source": [
        "Fabián Sepúlveda E"
      ],
      "metadata": {
        "id": "flzMMLB_leUa"
      }
    },
    {
      "cell_type": "markdown",
      "source": [
        "El siguiente código corresponde a la resolución del ejercicio propuesto en la Clase 2 del módulo 2."
      ],
      "metadata": {
        "id": "tyKmgukKljaj"
      }
    },
    {
      "cell_type": "code",
      "execution_count": null,
      "metadata": {
        "id": "Nncs9BjNkN25"
      },
      "outputs": [],
      "source": [
        "def ejercicio_1():\n",
        "  \"\"\"Esta función pregunta al usuario su nombre, edad y pais y\n",
        "     determina si corrresponde a los requisitos para acceder al beneficio.\n",
        "\n",
        "  Args:\n",
        "    Ninguna.\n",
        "\n",
        "  Returns:\n",
        "    Ninguna.\n",
        "  \"\"\"\n",
        "\n",
        "  # Paso 1: Capturar datos desde la consola\n",
        "  nombre_usuario = input(\"Ingresa tu nombre: \")\n",
        "  edad_usuario = input(\"Ingresa tu edad: \")\n",
        "  pais_usuario = input(\"Ingresa tu país de residencia: \")\n",
        "\n",
        "  # Paso 2: Convertir la edad a entero y el país a minúsculas\n",
        "  edad_usuario = int(edad_usuario)\n",
        "  pais_usuario = pais_usuario.lower()\n",
        "\n",
        "  # Paso 3: Determinar si cumple ambas condiciones\n",
        "  paises_validos = [\"argentina\", \"chile\", \"colombia\",\"Brasil\"]\n",
        "  cumple_requisitos = edad_usuario >= 18 and pais_usuario in paises_validos\n",
        "  2\n",
        "  # Paso 4: Mostrar mensaje personalizado\n",
        "  print(f\"\\nHola, {nombre_usuario}! Tienes {edad_usuario} años y vives en {pais_usuario.title()}.\")\n",
        "\n",
        "  if cumple_requisitos:\n",
        "      print(\"✅ Puedes acceder al beneficio exclusivo para mayores de 18 años en Argentina, Chile o Colombia.\")\n",
        "  else:\n",
        "      print(\"❌ No puedes acceder al beneficio.\")\n",
        "\n"
      ]
    },
    {
      "cell_type": "code",
      "source": [
        "ejercicio_1()"
      ],
      "metadata": {
        "colab": {
          "base_uri": "https://localhost:8080/",
          "height": 315
        },
        "id": "zFosn-BmkpEO",
        "outputId": "013596c5-4045-43fb-d157-209cc7908ac9"
      },
      "execution_count": null,
      "outputs": [
        {
          "name": "stdout",
          "output_type": "stream",
          "text": [
            "Ingresa tu nombre: Fabian\n",
            "Ingresa tu edad: 22.3\n",
            "Ingresa tu país de residencia: chile\n"
          ]
        },
        {
          "output_type": "error",
          "ename": "ValueError",
          "evalue": "invalid literal for int() with base 10: '22.3'",
          "traceback": [
            "\u001b[0;31m---------------------------------------------------------------------------\u001b[0m",
            "\u001b[0;31mValueError\u001b[0m                                Traceback (most recent call last)",
            "\u001b[0;32m<ipython-input-6-72cda11aba01>\u001b[0m in \u001b[0;36m<cell line: 0>\u001b[0;34m()\u001b[0m\n\u001b[0;32m----> 1\u001b[0;31m \u001b[0mejercicio_1\u001b[0m\u001b[0;34m(\u001b[0m\u001b[0;34m)\u001b[0m\u001b[0;34m\u001b[0m\u001b[0;34m\u001b[0m\u001b[0m\n\u001b[0m",
            "\u001b[0;32m<ipython-input-4-6b96d9610cf9>\u001b[0m in \u001b[0;36mejercicio_1\u001b[0;34m()\u001b[0m\n\u001b[1;32m     16\u001b[0m \u001b[0;34m\u001b[0m\u001b[0m\n\u001b[1;32m     17\u001b[0m   \u001b[0;31m# Paso 2: Convertir la edad a entero y el país a minúsculas\u001b[0m\u001b[0;34m\u001b[0m\u001b[0;34m\u001b[0m\u001b[0m\n\u001b[0;32m---> 18\u001b[0;31m   \u001b[0medad_usuario\u001b[0m \u001b[0;34m=\u001b[0m \u001b[0mint\u001b[0m\u001b[0;34m(\u001b[0m\u001b[0medad_usuario\u001b[0m\u001b[0;34m)\u001b[0m\u001b[0;34m\u001b[0m\u001b[0;34m\u001b[0m\u001b[0m\n\u001b[0m\u001b[1;32m     19\u001b[0m   \u001b[0mpais_usuario\u001b[0m \u001b[0;34m=\u001b[0m \u001b[0mpais_usuario\u001b[0m\u001b[0;34m.\u001b[0m\u001b[0mlower\u001b[0m\u001b[0;34m(\u001b[0m\u001b[0;34m)\u001b[0m\u001b[0;34m\u001b[0m\u001b[0;34m\u001b[0m\u001b[0m\n\u001b[1;32m     20\u001b[0m \u001b[0;34m\u001b[0m\u001b[0m\n",
            "\u001b[0;31mValueError\u001b[0m: invalid literal for int() with base 10: '22.3'"
          ]
        }
      ]
    },
    {
      "cell_type": "markdown",
      "source": [
        "**¿Qué sucede si un usuario ingrsa un número decimal en el campo Edad?**\n",
        "\n",
        "> Se produce error: invalid literal for int() with base 10:\n",
        "\n",
        "**¿Por qué es importante validar el tipo de datos antes de operar con ellos?**\n",
        "> Para que no se produzcan errores en la ejecución del código\n",
        "\n",
        "**¿Qué ventajas no da utilizar variables booleanas para guardar condiciones?**\n",
        "> Mejora comprensión del código\n",
        "\n"
      ],
      "metadata": {
        "id": "tPtRsBp1l5fu"
      }
    }
  ]
}