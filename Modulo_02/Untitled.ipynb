{
 "cells": [
  {
   "cell_type": "code",
   "execution_count": 1,
   "id": "0ce4f0cc-d9ab-4130-b746-9a79f8b55e86",
   "metadata": {},
   "outputs": [],
   "source": [
    "import operaciones"
   ]
  },
  {
   "cell_type": "code",
   "execution_count": 2,
   "id": "37cb86b5-18b4-4de8-9075-cf1e667a907c",
   "metadata": {},
   "outputs": [],
   "source": [
    "def calculadora():\n",
    "    \"\"\"Función principal que maneja la interacción con el usuario\"\"\"\n",
    "    print(\"=== CALCULADORA BÁSICA ===\")\n",
    "    print(\"Operaciones disponibles:\")\n",
    "    print(\"1. Suma\")\n",
    "    print(\"2. Resta\")\n",
    "    print(\"3. Multiplicación\")\n",
    "    print(\"4. División\")\n",
    "    print(\"5. Salir\")\n",
    "    \n",
    "    while True:\n",
    "        try:\n",
    "            # Solicitar la operación al usuario\n",
    "            opcion = input(\"\\nSelecciona una operación (1-5): \")\n",
    "            \n",
    "            if opcion == '5':\n",
    "                print(\"¡Gracias por usar la calculadora!\")\n",
    "                break\n",
    "            \n",
    "            if opcion not in ['1', '2', '3', '4']:\n",
    "                print(\"Opción no válida. Por favor, selecciona una opción del 1 al 5.\")\n",
    "                continue\n",
    "            \n",
    "            # Solicitar los números\n",
    "            num1 = float(input(\"Ingresa el primer número: \"))\n",
    "            num2 = float(input(\"Ingresa el segundo número: \"))\n",
    "            \n",
    "            # Ejecutar la operación seleccionada\n",
    "            if opcion == '1':\n",
    "                resultado = operaciones.suma(num1, num2)\n",
    "                operacion = \"suma\"\n",
    "            elif opcion == '2':\n",
    "                resultado = operaciones.resta(num1, num2)\n",
    "                operacion = \"resta\"\n",
    "            elif opcion == '3':\n",
    "                resultado = operaciones.multiplicacion(num1, num2)\n",
    "                operacion = \"multiplicación\"\n",
    "            elif opcion == '4':\n",
    "                resultado = operaciones.division(num1, num2)\n",
    "                operacion = \"división\"\n",
    "            \n",
    "            # Mostrar el resultado\n",
    "            print(f\"\\nResultado de la {operacion}: {resultado}\")\n",
    "            \n",
    "        except ValueError:\n",
    "            print(\"Error: Por favor, ingresa números válidos.\")\n",
    "        except Exception as e:\n",
    "            print(f\"Error inesperado: {e}\")"
   ]
  },
  {
   "cell_type": "code",
   "execution_count": null,
   "id": "6fcb5645-8dfa-4aac-8a7e-b7b1445a4c5c",
   "metadata": {},
   "outputs": [
    {
     "name": "stdout",
     "output_type": "stream",
     "text": [
      "=== CALCULADORA BÁSICA ===\n",
      "Operaciones disponibles:\n",
      "1. Suma\n",
      "2. Resta\n",
      "3. Multiplicación\n",
      "4. División\n",
      "5. Salir\n"
     ]
    },
    {
     "name": "stdin",
     "output_type": "stream",
     "text": [
      "\n",
      "Selecciona una operación (1-5):  1\n",
      "Ingresa el primer número:  1\n",
      "Ingresa el segundo número:  1\n"
     ]
    },
    {
     "name": "stdout",
     "output_type": "stream",
     "text": [
      "\n",
      "Resultado de la suma: 2.0\n"
     ]
    }
   ],
   "source": [
    "calculadora()"
   ]
  },
  {
   "cell_type": "code",
   "execution_count": null,
   "id": "4073b652-cb8f-45b2-8f4b-d0de935a6f70",
   "metadata": {},
   "outputs": [],
   "source": []
  }
 ],
 "metadata": {
  "kernelspec": {
   "display_name": "Python 3 (ipykernel)",
   "language": "python",
   "name": "python3"
  },
  "language_info": {
   "codemirror_mode": {
    "name": "ipython",
    "version": 3
   },
   "file_extension": ".py",
   "mimetype": "text/x-python",
   "name": "python",
   "nbconvert_exporter": "python",
   "pygments_lexer": "ipython3",
   "version": "3.12.7"
  }
 },
 "nbformat": 4,
 "nbformat_minor": 5
}
