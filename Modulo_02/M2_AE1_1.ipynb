{
 "cells": [
  {
   "cell_type": "code",
   "execution_count": 2,
   "id": "ff045368-252a-4778-bd8d-4ca1619eb543",
   "metadata": {},
   "outputs": [],
   "source": [
    "def es_mayor(edad):\n",
    "    \"\"\"\n",
    "    Función que recibe la edad y retorna True si es mayor de edad, False si es menor\n",
    "    Parámetro: edad (int)\n",
    "    Retorna: bool (True si >= 18, False si < 18)\n",
    "    \"\"\"\n",
    "    return edad >= 18"
   ]
  },
  {
   "cell_type": "code",
   "execution_count": 5,
   "id": "b1fcac29-c3b5-457f-b5d4-f1acafb8816f",
   "metadata": {},
   "outputs": [
    {
     "name": "stdout",
     "output_type": "stream",
     "text": [
      "=== VERIFICADOR DE MAYORÍA DE EDAD ===\n",
      "\n"
     ]
    },
    {
     "name": "stdin",
     "output_type": "stream",
     "text": [
      "Por favor, ingresa tu nombre:  Fabian\n",
      "Por favor, ingresa tu edad:  17\n"
     ]
    },
    {
     "name": "stdout",
     "output_type": "stream",
     "text": [
      "\n",
      "✅ Datos ingresados: Fabian, 17 años, es mayor de edad: No\n"
     ]
    }
   ],
   "source": [
    "print(\"=== VERIFICADOR DE MAYORÍA DE EDAD ===\\n\")\n",
    "\n",
    "# Solicitar nombre del usuario\n",
    "nombre = input(\"Por favor, ingresa tu nombre: \")\n",
    "\n",
    "# Solicitar edad con validación\n",
    "while True:\n",
    "    try:\n",
    "        edad = int(input(\"Por favor, ingresa tu edad: \"))\n",
    "        if edad < 0:\n",
    "            print(\"❌ La edad no puede ser negativa. Intenta de nuevo.\")\n",
    "            continue\n",
    "        elif edad > 150:\n",
    "            print(\"❌ Edad no válida. Intenta de nuevo.\")\n",
    "            continue\n",
    "        break\n",
    "    except ValueError:\n",
    "        print(\"❌ Por favor, ingresa un número válido para la edad.\")\n",
    "resultado_funcion = es_mayor(edad)\n",
    "print(f\"\\n✅ Datos ingresados: {nombre}, {edad} años, es mayor de edad: {'Sí' if resultado_funcion else 'No'}\")"
   ]
  },
  {
   "cell_type": "markdown",
   "id": "b939bb69-3437-4abe-bff3-06848f26ab0d",
   "metadata": {},
   "source": [
    "¿Por qué se dice que Python es versátil? ¿Podría usarlo para cualquier tipo de proyecto?\n",
    "✅ Ventajas de versatilidad:\n",
    "\n",
    "Sintaxis simple y legible - fácil de aprender y usar\n",
    "Múltiples paradigmas - programación orientada a objetos, funcional, procedural\n",
    "Ecosistema gigante - miles de librerías para diferentes propósitos\n",
    "Multiplataforma - funciona en Windows, Mac, Linux\n",
    "Interpretado - desarrollo rápido sin compilación\n",
    "\n",
    "🎯 Tipos de proyectos donde Python destaca:\n",
    "\n",
    "Desarrollo web (Django, Flask)\n",
    "Ciencia de datos (Pandas, NumPy, Matplotlib)\n",
    "Inteligencia artificial (TensorFlow, PyTorch)\n",
    "Automatización (scripts, bots)\n",
    "Aplicaciones de escritorio (Tkinter, PyQt)\n",
    "Análisis de datos (Jupyter, análisis estadístico)\n",
    "Videojuegos (Pygame)\n",
    "APIs y microservicios\n",
    "\n"
   ]
  },
  {
   "cell_type": "markdown",
   "id": "fe79d6cd-ddd2-4d09-bef0-0c2c5e62d1e7",
   "metadata": {},
   "source": [
    "🤝 ¿Qué tipo de soporte o ayuda puedo encontrar en la comunidad de Python?\n",
    "La comunidad de Python es una de las más activas y útiles:\n",
    "📚 Documentación y recursos:\n",
    "\n",
    "Documentación oficial - python.org (muy completa)\n",
    "Tutoriales interactivos - Real Python, Automate the Boring Stuff\n",
    "Libros gratuitos - disponibles online\n",
    "Videos y cursos - YouTube, Coursera, Udemy\n",
    "\n",
    "💬 Comunidades activas:\n",
    "\n",
    "Stack Overflow - preguntas específicas de código\n",
    "Reddit r/Python - discusiones y noticias\n",
    "Discord/Slack - chat en tiempo real\n",
    "Foros especializados - por tema (Django, Data Science, etc.)\n",
    "\n",
    "🛠️ Herramientas de ayuda:\n",
    "\n",
    "PyPI - repositorio de paquetes\n",
    "GitHub - código fuente abierto\n",
    "Jupyter Notebooks - documentación interactiva\n",
    "IDEs con ayuda integrada - PyCharm, VS Code\n",
    "\n",
    "🎪 Eventos y networking:\n",
    "\n",
    "PyCon - conferencias mundiales\n",
    "Meetups locales - grupos en tu ciudad\n",
    "Hackathons - proyectos colaborativos\n",
    "Contribuciones open source - proyectos reales"
   ]
  },
  {
   "cell_type": "code",
   "execution_count": null,
   "id": "e39ded04-59c1-454e-aadc-af0a09516200",
   "metadata": {},
   "outputs": [],
   "source": [
    "Qué tan importante es aprender a usar librerías en Python para proyectos reales?\n",
    "🔥 EXTREMADAMENTE IMPORTANTE - Es fundamental por estas razones:\n",
    "⚡ Eficiencia y productividad:\n",
    "\n",
    "No reinventes la rueda - usa código ya probado\n",
    "Desarrollo más rápido - menos código desde cero\n",
    "Menos errores - librerías están bien testeadas\n",
    "Mantenimiento fácil - actualizaciones automáticas"
   ]
  }
 ],
 "metadata": {
  "kernelspec": {
   "display_name": "Python 3 (ipykernel)",
   "language": "python",
   "name": "python3"
  },
  "language_info": {
   "codemirror_mode": {
    "name": "ipython",
    "version": 3
   },
   "file_extension": ".py",
   "mimetype": "text/x-python",
   "name": "python",
   "nbconvert_exporter": "python",
   "pygments_lexer": "ipython3",
   "version": "3.12.7"
  }
 },
 "nbformat": 4,
 "nbformat_minor": 5
}
