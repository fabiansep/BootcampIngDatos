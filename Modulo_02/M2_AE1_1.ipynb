{
 "cells": [
  {
   "cell_type": "code",
   "execution_count": 1,
   "id": "f144ade6-c16f-4904-855d-b97018891c6d",
   "metadata": {},
   "outputs": [],
   "source": [
    "def suma(a, b):\n",
    "    \"\"\"Función para sumar dos números\"\"\"\n",
    "    return a + b\n",
    "\n",
    "def resta(a, b):\n",
    "    \"\"\"Función para restar dos números\"\"\"\n",
    "    return a - b\n",
    "\n",
    "def multiplicacion(a, b):\n",
    "    \"\"\"Función para multiplicar dos números\"\"\"\n",
    "    return a * b\n",
    "\n",
    "def division(a, b):\n",
    "    \"\"\"Función para dividir dos números\"\"\"\n",
    "    if b == 0:\n",
    "        return \"Error: No se puede dividir por cero\"\n",
    "    return a / b\n",
    "\n",
    "def calculadora():\n",
    "    \"\"\"Función principal que maneja la interacción con el usuario\"\"\"\n",
    "    print(\"=== CALCULADORA BÁSICA ===\")\n",
    "    print(\"Operaciones disponibles:\")\n",
    "    print(\"1. Suma\")\n",
    "    print(\"2. Resta\")\n",
    "    print(\"3. Multiplicación\")\n",
    "    print(\"4. División\")\n",
    "    print(\"5. Salir\")\n",
    "    \n",
    "    while True:\n",
    "        try:\n",
    "            # Solicitar la operación al usuario\n",
    "            opcion = input(\"\\nSelecciona una operación (1-5): \")\n",
    "            \n",
    "            if opcion == '5':\n",
    "                print(\"¡Gracias por usar la calculadora!\")\n",
    "                break\n",
    "            \n",
    "            if opcion not in ['1', '2', '3', '4']:\n",
    "                print(\"Opción no válida. Por favor, selecciona una opción del 1 al 5.\")\n",
    "                continue\n",
    "            \n",
    "            # Solicitar los números\n",
    "            num1 = float(input(\"Ingresa el primer número: \"))\n",
    "            num2 = float(input(\"Ingresa el segundo número: \"))\n",
    "            \n",
    "            # Ejecutar la operación seleccionada\n",
    "            if opcion == '1':\n",
    "                resultado = suma(num1, num2)\n",
    "                operacion = \"suma\"\n",
    "            elif opcion == '2':\n",
    "                resultado = resta(num1, num2)\n",
    "                operacion = \"resta\"\n",
    "            elif opcion == '3':\n",
    "                resultado = multiplicacion(num1, num2)\n",
    "                operacion = \"multiplicación\"\n",
    "            elif opcion == '4':\n",
    "                resultado = division(num1, num2)\n",
    "                operacion = \"división\"\n",
    "            \n",
    "            # Mostrar el resultado\n",
    "            print(f\"\\nResultado de la {operacion}: {resultado}\")\n",
    "            \n",
    "        except ValueError:\n",
    "            print(\"Error: Por favor, ingresa números válidos.\")\n",
    "        except Exception as e:\n",
    "            print(f\"Error inesperado: {e}\")"
   ]
  },
  {
   "cell_type": "code",
   "execution_count": 2,
   "id": "6514304b-f8af-4afb-85a8-226eb809326e",
   "metadata": {},
   "outputs": [
    {
     "name": "stdout",
     "output_type": "stream",
     "text": [
      "=== CALCULADORA BÁSICA ===\n",
      "Operaciones disponibles:\n",
      "1. Suma\n",
      "2. Resta\n",
      "3. Multiplicación\n",
      "4. División\n",
      "5. Salir\n"
     ]
    },
    {
     "name": "stdin",
     "output_type": "stream",
     "text": [
      "\n",
      "Selecciona una operación (1-5):  1\n",
      "Ingresa el primer número:  3\n",
      "Ingresa el segundo número:  4\n"
     ]
    },
    {
     "name": "stdout",
     "output_type": "stream",
     "text": [
      "\n",
      "Resultado de la suma: 7.0\n"
     ]
    },
    {
     "name": "stdin",
     "output_type": "stream",
     "text": [
      "\n",
      "Selecciona una operación (1-5):  5\n"
     ]
    },
    {
     "name": "stdout",
     "output_type": "stream",
     "text": [
      "¡Gracias por usar la calculadora!\n"
     ]
    }
   ],
   "source": [
    "calculadora()"
   ]
  },
  {
   "cell_type": "code",
   "execution_count": null,
   "id": "e6204803-40f0-4466-bae6-ccf3ab9ead39",
   "metadata": {},
   "outputs": [],
   "source": []
  }
 ],
 "metadata": {
  "kernelspec": {
   "display_name": "Python 3 (ipykernel)",
   "language": "python",
   "name": "python3"
  },
  "language_info": {
   "codemirror_mode": {
    "name": "ipython",
    "version": 3
   },
   "file_extension": ".py",
   "mimetype": "text/x-python",
   "name": "python",
   "nbconvert_exporter": "python",
   "pygments_lexer": "ipython3",
   "version": "3.12.7"
  }
 },
 "nbformat": 4,
 "nbformat_minor": 5
}
