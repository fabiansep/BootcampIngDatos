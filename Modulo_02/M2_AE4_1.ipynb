{
 "cells": [
  {
   "cell_type": "markdown",
   "id": "1c61505c-c7ca-491a-a696-86d7637df108",
   "metadata": {},
   "source": [
    "# Análisis de Calificaciones\n",
    "# Ejercicio con listas, bucles for y lógica condicional"
   ]
  },
  {
   "cell_type": "code",
   "execution_count": 1,
   "id": "68c8f1a3-5946-413b-a83c-4863752eb4e1",
   "metadata": {},
   "outputs": [],
   "source": [
    "  calificaciones = [85, 92, 78, 65, 88, 45, 96, 72, 81, 55]"
   ]
  },
  {
   "cell_type": "code",
   "execution_count": 2,
   "id": "0b4a1c17-9238-46e1-b147-297eb4aab076",
   "metadata": {},
   "outputs": [
    {
     "name": "stdout",
     "output_type": "stream",
     "text": [
      "Calificaciones originales: [85, 92, 78, 65, 88, 45, 96, 72, 81, 55]\n",
      "Número total de estudiantes: 10\n"
     ]
    }
   ],
   "source": [
    "    print(f\"Calificaciones originales: {calificaciones}\")\n",
    "    print(f\"Número total de estudiantes: {len(calificaciones)}\")"
   ]
  },
  {
   "cell_type": "code",
   "execution_count": 4,
   "id": "79e3619c-f420-42e8-9864-f0a626c83e66",
   "metadata": {},
   "outputs": [
    {
     "name": "stdout",
     "output_type": "stream",
     "text": [
      "\n",
      "Recorriendo calificaciones:\n",
      "Estudiante 1: 85 puntos (Total acumulado: 85)\n",
      "Estudiante 2: 92 puntos (Total acumulado: 177)\n",
      "Estudiante 3: 78 puntos (Total acumulado: 255)\n",
      "Estudiante 4: 65 puntos (Total acumulado: 320)\n",
      "Estudiante 5: 88 puntos (Total acumulado: 408)\n",
      "Estudiante 6: 45 puntos (Total acumulado: 453)\n",
      "Estudiante 7: 96 puntos (Total acumulado: 549)\n",
      "Estudiante 8: 72 puntos (Total acumulado: 621)\n",
      "Estudiante 9: 81 puntos (Total acumulado: 702)\n",
      "Estudiante 10: 55 puntos (Total acumulado: 757)\n"
     ]
    }
   ],
   "source": [
    "# Paso 2: Usar un for para recorrer las calificaciones y calcular el total acumulado\n",
    "total_acumulado = 0\n",
    "print(\"\\nRecorriendo calificaciones:\")\n",
    "    \n",
    "for i, calificacion in enumerate(calificaciones):\n",
    "    total_acumulado += calificacion\n",
    "    print(f\"Estudiante {i+1}: {calificacion} puntos (Total acumulado: {total_acumulado})\")"
   ]
  },
  {
   "cell_type": "code",
   "execution_count": 6,
   "id": "912709fb-775f-4757-95fe-cb465c534f55",
   "metadata": {},
   "outputs": [
    {
     "name": "stdout",
     "output_type": "stream",
     "text": [
      "\n",
      "Promedio general: 75.70\n"
     ]
    }
   ],
   "source": [
    "# Calcular el promedio general\n",
    "promedio = total_acumulado / len(calificaciones)\n",
    "print(f\"\\nPromedio general: {promedio:.2f}\")"
   ]
  },
  {
   "cell_type": "code",
   "execution_count": 7,
   "id": "b1680ece-5670-432e-83cf-1e123a41eec7",
   "metadata": {},
   "outputs": [
    {
     "name": "stdout",
     "output_type": "stream",
     "text": [
      "\n",
      "Análisis de aprobación (nota >= 60):\n",
      "Estudiante 1: 85 - APROBADO ✓\n",
      "Estudiante 2: 92 - APROBADO ✓\n",
      "Estudiante 3: 78 - APROBADO ✓\n",
      "Estudiante 4: 65 - APROBADO ✓\n",
      "Estudiante 5: 88 - APROBADO ✓\n",
      "Estudiante 6: 45 - REPROBADO ✗\n",
      "Estudiante 7: 96 - APROBADO ✓\n",
      "Estudiante 8: 72 - APROBADO ✓\n",
      "Estudiante 9: 81 - APROBADO ✓\n",
      "Estudiante 10: 55 - REPROBADO ✗\n",
      "\n",
      "Estudiantes aprobados: 8\n",
      "Lista de notas aprobadas: [85, 92, 78, 65, 88, 96, 72, 81]\n"
     ]
    }
   ],
   "source": [
    "# Paso 3: Contar estudiantes aprobados (nota >= 60) y crear lista de aprobados\n",
    "aprobados = []\n",
    "contador_aprobados = 0\n",
    "    \n",
    "print(\"\\nAnálisis de aprobación (nota >= 60):\")\n",
    "    \n",
    "for i, calificacion in enumerate(calificaciones):\n",
    "    if calificacion >= 60:\n",
    "        contador_aprobados += 1\n",
    "        aprobados.append(calificacion)\n",
    "        print(f\"Estudiante {i+1}: {calificacion} - APROBADO ✓\")\n",
    "    else:\n",
    "        print(f\"Estudiante {i+1}: {calificacion} - REPROBADO ✗\")\n",
    "    \n",
    "print(f\"\\nEstudiantes aprobados: {contador_aprobados}\")\n",
    "print(f\"Lista de notas aprobadas: {aprobados}\")"
   ]
  },
  {
   "cell_type": "code",
   "execution_count": 8,
   "id": "9fe12093-2c54-424d-830a-0379e674cc33",
   "metadata": {},
   "outputs": [
    {
     "name": "stdout",
     "output_type": "stream",
     "text": [
      "\n",
      "=== RESULTADOS FINALES ===\n",
      "Total de estudiantes: 10\n",
      "Estudiantes aprobados: 8\n",
      "Estudiantes reprobados: 2\n",
      "Porcentaje de aprobación: 80.0%\n",
      "Promedio general: 75.70\n",
      "Promedio de aprobados: 82.12\n",
      "Notas de estudiantes aprobados: [85, 92, 78, 65, 88, 96, 72, 81]\n"
     ]
    }
   ],
   "source": [
    "# Paso 4: Calcular promedio de aprobados y mostrar resultados finales\n",
    "if aprobados:\n",
    "    promedio_aprobados = sum(aprobados) / len(aprobados)\n",
    "        \n",
    "    print(f\"\\n=== RESULTADOS FINALES ===\")\n",
    "    print(f\"Total de estudiantes: {len(calificaciones)}\")\n",
    "    print(f\"Estudiantes aprobados: {contador_aprobados}\")\n",
    "    print(f\"Estudiantes reprobados: {len(calificaciones) - contador_aprobados}\")\n",
    "    print(f\"Porcentaje de aprobación: {(contador_aprobados/len(calificaciones)*100):.1f}%\")\n",
    "    print(f\"Promedio general: {promedio:.2f}\")\n",
    "    print(f\"Promedio de aprobados: {promedio_aprobados:.2f}\")\n",
    "    print(f\"Notas de estudiantes aprobados: {aprobados}\")\n",
    "else:\n",
    "    print(\"\\nNo hay estudiantes aprobados.\")"
   ]
  },
  {
   "cell_type": "code",
   "execution_count": null,
   "id": "274a522c-480d-45bb-974c-3257365a7e3b",
   "metadata": {},
   "outputs": [],
   "source": []
  }
 ],
 "metadata": {
  "kernelspec": {
   "display_name": "Python 3 (ipykernel)",
   "language": "python",
   "name": "python3"
  },
  "language_info": {
   "codemirror_mode": {
    "name": "ipython",
    "version": 3
   },
   "file_extension": ".py",
   "mimetype": "text/x-python",
   "name": "python",
   "nbconvert_exporter": "python",
   "pygments_lexer": "ipython3",
   "version": "3.12.7"
  }
 },
 "nbformat": 4,
 "nbformat_minor": 5
}
